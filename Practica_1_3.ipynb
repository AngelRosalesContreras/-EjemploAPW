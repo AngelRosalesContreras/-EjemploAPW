{
  "nbformat": 4,
  "nbformat_minor": 0,
  "metadata": {
    "colab": {
      "provenance": [],
      "authorship_tag": "ABX9TyPYAtM8aasC8rBbzLDT1Jzo",
      "include_colab_link": true
    },
    "kernelspec": {
      "name": "python3",
      "display_name": "Python 3"
    },
    "language_info": {
      "name": "python"
    }
  },
  "cells": [
    {
      "cell_type": "markdown",
      "metadata": {
        "id": "view-in-github",
        "colab_type": "text"
      },
      "source": [
        "<a href=\"https://colab.research.google.com/github/AngelRosalesContreras/-EjemploAPW/blob/master/Practica_1_3.ipynb\" target=\"_parent\"><img src=\"https://colab.research.google.com/assets/colab-badge.svg\" alt=\"Open In Colab\"/></a>"
      ]
    },
    {
      "cell_type": "markdown",
      "source": [
        "# **Práctica 1.3 (Transformada de Hough y Etiquetado de componentes conectados)**"
      ],
      "metadata": {
        "id": "gF3fg8nlhUqb"
      }
    },
    {
      "cell_type": "code",
      "source": [],
      "metadata": {
        "id": "qkwtxP9ohbH5"
      },
      "execution_count": null,
      "outputs": []
    }
  ]
}